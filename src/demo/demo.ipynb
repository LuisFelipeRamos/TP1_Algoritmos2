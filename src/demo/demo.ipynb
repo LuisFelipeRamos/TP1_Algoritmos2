{
  "cells": [
    {
      "cell_type": "code",
      "metadata": {
        "jukit_cell_id": "Wg7dfQZUCw"
      },
      "source": [
        "import random\n",
        "from typing import cast\n",
        "\n",
        "import matplotlib.pyplot as plt\n",
        "\n",
        "from src.convex_hull import ConvexHull\n",
        "from src.line_sweep.line_sweep import LineSweep\n",
        "from src.point import Point\n",
        "from src.segment.segment import Segment"
      ],
      "outputs": [],
      "execution_count": null
    },
    {
      "cell_type": "markdown",
      "metadata": {
        "jukit_cell_id": "MdoLa6tj6Q"
      },
      "source": [
        "# Demonstra\u00e7\u00e3o Envolt\u00f3ria Convexa\n",
        "\n",
        "Esta demonstra\u00e7\u00e3o gera um conjunto de pontos aleat\u00f3rios, constr\u00f3i sua envolt\u00f3ria convexa e a exibe usando a biblioteca `matplotlib`"
      ]
    },
    {
      "cell_type": "code",
      "metadata": {
        "jukit_cell_id": "uml482HVlH"
      },
      "source": [
        "set_of_points: list[Point] = []\n",
        "for _ in range(100):\n",
        "    x: int\n",
        "    y: int\n",
        "    x, y = random.randint(1, 100), random.randint(1, 100)\n",
        "    set_of_points.append(Point(x, y))\n",
        "\n",
        "hull: ConvexHull = ConvexHull(set_of_points, alg=\"gift_wrapping\")\n",
        "hull.plot()"
      ],
      "outputs": [],
      "execution_count": null
    },
    {
      "cell_type": "markdown",
      "metadata": {
        "jukit_cell_id": "kvYpjiPPvH"
      },
      "source": [
        "# Demonstra\u00e7\u00e3o Varredura linear\n",
        "\n",
        "Esta demonstra\u00e7\u00e3o gera dois tri\u00e2ngulos e diz se eles possuem interse\u00e7\u00e3o ou n\u00e3o."
      ]
    },
    {
      "cell_type": "code",
      "metadata": {
        "jukit_cell_id": "z9fel4U5mg"
      },
      "source": [
        "def generate_random_polygon(n: int):\n",
        "    xPool: list[int] = [random.randint(1, 10) for _ in range(n)]\n",
        "    yPool: list[int] = [random.randint(1, 10) for _ in range(n)]\n",
        "    points: list[Point] = [Point(i, j) for i, j in zip(xPool, yPool)]\n",
        "    polygon: list[Segment] = []\n",
        "\n",
        "    for i in range(n):\n",
        "        seg: Segment = Segment(points[i], points[i - 1])\n",
        "        polygon.append(seg)\n",
        "\n",
        "    return polygon\n",
        "\n",
        "\n",
        "def plot_polygon(polygon: list[Segment], color: str):\n",
        "    for edge in polygon:\n",
        "        plt.plot([edge.p0.x, edge.p1.x], [edge.p0.y, edge.p1.y], color, linewidth=0.5)\n",
        "\n",
        "\n",
        "n: int = 3\n",
        "triangle_1: list[Segment] = generate_random_polygon(n)\n",
        "triangle_2: list[Segment] = generate_random_polygon(n)\n",
        "\n",
        "_, ax = plt.subplots()\n",
        "ax = cast(plt.Axes, ax)\n",
        "ax.grid(which=\"both\", color=\"grey\", linewidth=0.5, linestyle=\"-\", alpha=0.2)\n",
        "plot_polygon(triangle_1, \"blue\")\n",
        "plot_polygon(triangle_2, \"green\")\n",
        "plt.show()\n",
        "\n",
        "sil: list[tuple[Segment, int]] = [(seg, 1) for seg in triangle_1]\n",
        "sil.extend((seg, 2) for seg in triangle_2)\n",
        "\n",
        "L: LineSweep = LineSweep()\n",
        "\n",
        "inter = L.check_polygons_intersect(sil)\n",
        "\n",
        "print(inter)"
      ],
      "outputs": [],
      "execution_count": null
    }
  ],
  "metadata": {
    "anaconda-cloud": {},
    "kernelspec": {
      "display_name": "python",
      "language": "python",
      "name": "python3"
    }
  },
  "nbformat": 4,
  "nbformat_minor": 4
}