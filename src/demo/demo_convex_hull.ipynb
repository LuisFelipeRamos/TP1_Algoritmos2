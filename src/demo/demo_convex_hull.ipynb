{
  "cells": [
    {
      "cell_type": "code",
      "metadata": {
        "jukit_cell_id": "Wg7dfQZUCw"
      },
      "source": [
        "from src.point import Point\n",
        "from src.segment import Segment\n",
        "from src.convex_hull import gift_wrapping_convex_hull\n",
        "import random\n",
        "import matplotlib.pyplot as plt"
      ],
      "outputs": [],
      "execution_count": null
    },
    {
      "cell_type": "markdown",
      "metadata": {
        "jukit_cell_id": "MdoLa6tj6Q"
      },
      "source": [
        "# Demonstra\u00e7\u00e3o Envolt\u00f3ria Convexa\n",
        "\n",
        "Esta demonstra\u00e7\u00e3o gera um conjunto de pontos aleat\u00f3rios, constr\u00f3i sua envolt\u00f3ria convexa e a exibe usando a biblioteca matplotlib"
      ]
    },
    {
      "cell_type": "code",
      "metadata": {
        "jukit_cell_id": "uml482HVlH"
      },
      "source": [
        "set_of_points: list[Point] = []\n",
        "for _ in range(100):\n",
        "    x: int\n",
        "    y: int\n",
        "    x, y = random.randint(1, 100), random.randint(1, 100)\n",
        "    set_of_points.append(Point(x, y))\n",
        "\n",
        "hull: list[Segment] = gift_wrapping_convex_hull(set_of_points)\n",
        "\n",
        "\n",
        "xmin: int = -100\n",
        "ymin: int = -100\n",
        "xmax: int = 100\n",
        "ymax: int = 100\n",
        "ticks_frequency: int = 1\n",
        "\n",
        "fig, ax = plt.subplots(figsize=(100, 100))\n",
        "\n",
        "ax.scatter(\n",
        "    [point.x for point in set_of_points], [point.y for point in set_of_points], c=[\"b\"]\n",
        ")\n",
        "ax.grid(which=\"both\", color=\"grey\", linewidth=1, linestyle=\"-\", alpha=0.2)\n",
        "for edge in hull:\n",
        "    plt.plot(\n",
        "        [edge.points[0].x, edge.points[1].x], [edge.points[0].y, edge.points[1].y], \"r\"\n",
        "    )\n",
        "plt.show()"
      ],
      "outputs": [],
      "execution_count": null
    }
  ],
  "metadata": {
    "anaconda-cloud": {},
    "kernelspec": {
      "display_name": "python",
      "language": "python",
      "name": "python3"
    }
  },
  "nbformat": 4,
  "nbformat_minor": 4
}