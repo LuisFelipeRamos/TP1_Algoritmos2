{
  "cells": [
    {
      "cell_type": "markdown",
      "metadata": {
        "id": "GkloPlQypVVy"
      },
      "source": [
        "#Importando bibliotecas úteis(numpy, pandas,math,matplotlib):"
      ]
    },
    {
      "cell_type": "code",
      "execution_count": 1,
      "metadata": {
        "id": "wwdwaznFYlJl"
      },
      "outputs": [],
      "source": [
        "import numpy as np\n",
        "import pandas as pd\n",
        "import math\n",
        "import matplotlib.pyplot as plt\n",
        "import seaborn as sns"
      ]
    },
    {
      "cell_type": "markdown",
      "metadata": {
        "id": "LhUNGtwype_v"
      },
      "source": [
        "\n",
        "\n",
        "#Definindo classe ponto"
      ]
    },
    {
      "cell_type": "code",
      "execution_count": 3,
      "metadata": {
        "id": "SbgOOka2qm2r"
      },
      "outputs": [],
      "source": [
        "class Point:\n",
        "    def __init__(self, x: float, y: float) -> None:\n",
        "        self.x = x\n",
        "        self.y = y\n",
        "\n",
        "    def __repr__(self) -> str:\n",
        "        return f\"({self.x}, {self.y})\"\n",
        "\n",
        "    def __lt__(self, other) -> bool:\n",
        "        return self.y < other.y if self.y != other.y else self.x < other.x\n",
        "\n",
        "    def __gt__(self, other) -> bool:\n",
        "        return self.y > other.y if self.y != other.y else self.x > other.x\n",
        "\n",
        "    def __eq__(self, other) -> bool:\n",
        "        return self.x == other.x and self.y == other.y\n",
        "\n",
        "    def __ne__(self, other) -> bool:\n",
        "        return self.x != other.x or self.y != other.y\n",
        "\n",
        "    def get_distance(self, other) -> float:\n",
        "        return math.sqrt(math.pow(self.x - other.x, 2) + math.pow(self.y - other.y, 2))"
      ]
    },
    {
      "cell_type": "markdown",
      "metadata": {
        "id": "BQiq805fpmJ7"
      },
      "source": [
        "# Importando o banco de dados como um DataFrame pandas"
      ]
    },
    {
      "cell_type": "code",
      "execution_count": 85,
      "metadata": {
        "colab": {
          "base_uri": "https://localhost:8080/",
          "height": 382
        },
        "id": "ZlL4JkQjnMko",
        "outputId": "29d057aa-8eda-46ec-9f33-b4b15a037de3"
      },
      "outputs": [
        {
          "name": "stdout",
          "output_type": "stream",
          "text": [
            "                          SepalLength SepalWidth PetalLenght PetalWidth  \\\n",
            "0                      @relation iris        NaN         NaN        NaN   \n",
            "1    @attribute SepalLength real [4.3       7.9]         NaN        NaN   \n",
            "2     @attribute SepalWidth real [2.0       4.4]         NaN        NaN   \n",
            "3    @attribute PetalLength real [1.0       6.9]         NaN        NaN   \n",
            "4     @attribute PetalWidth real [0.1       2.5]         NaN        NaN   \n",
            "..                                ...        ...         ...        ...   \n",
            "154                               6.5        3.0         5.5        1.8   \n",
            "155                               7.7        2.6         6.9        2.3   \n",
            "156                               6.0        2.2         5.0        1.5   \n",
            "157                               6.9        3.2         5.7        2.3   \n",
            "158                               6.2        2.8         4.8        1.8   \n",
            "\n",
            "               Class  \n",
            "0                NaN  \n",
            "1                NaN  \n",
            "2                NaN  \n",
            "3                NaN  \n",
            "4                NaN  \n",
            "..               ...  \n",
            "154   Iris-virginica  \n",
            "155   Iris-virginica  \n",
            "156   Iris-virginica  \n",
            "157   Iris-virginica  \n",
            "158   Iris-virginica  \n",
            "\n",
            "[159 rows x 5 columns]\n"
          ]
        }
      ],
      "source": [
        "\"\"\" col_names_banana = ['At1', 'At2', 'Class']\n",
        "banana=pd.read_csv('./data/banana.dat', names=col_names_banana)\n",
        "print(banana) \"\"\"\n",
        "\n",
        "col_names_iris = ['SepalLength', 'SepalWidth', 'PetalLenght', 'PetalWidth', 'Class']\n",
        "iris=pd.read_csv('./data/iris.dat', names=col_names_iris)\n",
        "print(iris)\n",
        "\n"
      ]
    },
    {
      "cell_type": "markdown",
      "metadata": {
        "id": "6Hf8Ooj3q06F"
      },
      "source": [
        "# Separando as classes do Dataframe Banana e criando partições de treino e teste dos dados"
      ]
    },
    {
      "cell_type": "code",
      "execution_count": 24,
      "metadata": {
        "colab": {
          "base_uri": "https://localhost:8080/",
          "height": 185
        },
        "id": "rzML4Nsu07jk",
        "outputId": "c9fd43df-93aa-46a6-8eb0-ba06ec82e66a"
      },
      "outputs": [],
      "source": [
        "bananaclass1=banana[banana['Class']==1]\n",
        "bananaclass2=banana[banana['Class']==-1]\n",
        "\n"
      ]
    },
    {
      "cell_type": "markdown",
      "metadata": {
        "id": "SsNOteWM3lXV"
      },
      "source": [
        "Separando as classes em treino e teste"
      ]
    },
    {
      "cell_type": "markdown",
      "metadata": {
        "id": "G9uBwZVB4pbn"
      },
      "source": [
        "\n",
        "\n",
        "> Classe 1:\n",
        "\n"
      ]
    },
    {
      "cell_type": "code",
      "execution_count": 18,
      "metadata": {
        "id": "fsu4nB5p3tNe"
      },
      "outputs": [],
      "source": [
        "bananaclass1_train=bananaclass1.sample(frac=0.7)\n",
        "bananaclass1_test=bananaclass1.drop(bananaclass1_train.index)\n",
        "bananaclass1_train.reset_index(drop=True,inplace=True)\n",
        "bananaclass1_test.reset_index(drop=True,inplace=True)\n"
      ]
    },
    {
      "cell_type": "markdown",
      "metadata": {
        "id": "DK2YdLEx4zWU"
      },
      "source": [
        "\n",
        "\n",
        "> Classe 2:\n",
        "\n"
      ]
    },
    {
      "cell_type": "code",
      "execution_count": 19,
      "metadata": {
        "id": "6CA9zUDc426I"
      },
      "outputs": [],
      "source": [
        "bananaclass2_train=bananaclass2.sample(frac=0.7)\n",
        "bananaclass2_test=bananaclass2.drop(bananaclass2_train.index)\n",
        "bananaclass2_train.reset_index(drop=True,inplace=True)\n",
        "bananaclass2_test.reset_index(drop=True,inplace=True)"
      ]
    },
    {
      "cell_type": "markdown",
      "metadata": {
        "id": "umnUXuaDm7tz"
      },
      "source": [
        "Passando os dados para o tipo Point:"
      ]
    },
    {
      "cell_type": "code",
      "execution_count": 20,
      "metadata": {
        "id": "wSex2TPdxIat"
      },
      "outputs": [],
      "source": [
        "list_bananaclass1_train=[]\n",
        "for x in range(bananaclass1_train['At1'].size):\n",
        "  temp_point=Point(bananaclass1_train['At1'][x],bananaclass1_train['At2'][x])\n",
        "  list_bananaclass1_train.insert(1,temp_point)\n",
        "\n",
        "list_bananaclass1_test=[]\n",
        "for x in range(bananaclass1_test['At1'].size):\n",
        "  temp_point=Point(bananaclass1_test['At1'][x],bananaclass1_test['At2'][x])\n",
        "  list_bananaclass1_test.insert(1,temp_point)"
      ]
    },
    {
      "cell_type": "code",
      "execution_count": 21,
      "metadata": {
        "id": "EvHgJ7l2Cgrf"
      },
      "outputs": [],
      "source": [
        "list_bananaclass2_train=[]\n",
        "for x in range(bananaclass2_train['At1'].size):\n",
        "  temp_point=Point(bananaclass2_train['At1'][x],bananaclass2_train['At2'][x])\n",
        "  list_bananaclass2_train.insert(1,temp_point)\n",
        "\n",
        "list_bananaclass2_test=[]\n",
        "for x in range(bananaclass2_test['At1'].size):\n",
        "  temp_point=Point(bananaclass2_test['At1'][x],bananaclass2_test['At2'][x])\n",
        "  list_bananaclass2_test.insert(1,temp_point)"
      ]
    },
    {
      "cell_type": "markdown",
      "metadata": {
        "id": "j8AOKRTWri1E"
      },
      "source": [
        "# Separando as classes do Dataframe Haberman e criando partições de treino e teste dos dados"
      ]
    },
    {
      "cell_type": "code",
      "execution_count": null,
      "metadata": {
        "id": "anJ29P7EGRSt"
      },
      "outputs": [],
      "source": [
        "habermanclass1=haberman[haberman[' Class']==' positive']\n",
        "habermanclass2=haberman[haberman[' Class']==' negative']\n",
        "habermanclass1=habermanclass1[['Age', ' Positive']]\n",
        "habermanclass2=habermanclass2[['Age', ' Positive']]"
      ]
    },
    {
      "cell_type": "markdown",
      "metadata": {
        "id": "NAqfflPr5BMH"
      },
      "source": [
        "Separando as classes em treino e teste"
      ]
    },
    {
      "cell_type": "markdown",
      "metadata": {
        "id": "5eSpC5Zc5BMJ"
      },
      "source": [
        "\n",
        "\n",
        "> Classe 1:\n",
        "\n"
      ]
    },
    {
      "cell_type": "code",
      "execution_count": null,
      "metadata": {
        "id": "SJGEYIXv5BMJ"
      },
      "outputs": [],
      "source": [
        "habermanclass1_train=habermanclass1.sample(frac=0.7)\n",
        "habermanclass1_test=habermanclass1.drop(habermanclass1_train.index)\n",
        "habermanclass1_train.reset_index(drop=True,inplace=True)\n",
        "habermanclass1_test.reset_index(drop=True,inplace=True)\n"
      ]
    },
    {
      "cell_type": "markdown",
      "metadata": {
        "id": "L6n8X2ZJ5BMK"
      },
      "source": [
        "\n",
        "\n",
        "> Classe 2:\n",
        "\n"
      ]
    },
    {
      "cell_type": "code",
      "execution_count": null,
      "metadata": {
        "id": "p66ts1iY5BML"
      },
      "outputs": [],
      "source": [
        "habermanclass2_train=habermanclass2.sample(frac=0.7)\n",
        "habermanclass2_test=habermanclass2.drop(habermanclass2_train.index)\n",
        "habermanclass2_train.reset_index(drop=True,inplace=True)\n",
        "habermanclass2_test.reset_index(drop=True,inplace=True)"
      ]
    },
    {
      "cell_type": "markdown",
      "metadata": {
        "id": "jGTP3bBw5BMM"
      },
      "source": [
        "Passando os dados para o tipo Point:"
      ]
    },
    {
      "cell_type": "code",
      "execution_count": null,
      "metadata": {
        "id": "Z4ZEFGbm5BMM"
      },
      "outputs": [],
      "source": [
        "list_habermanclass1_train=[]\n",
        "for x in range(habermanclass1_train['Age'].size):\n",
        "  temp_point=Point(habermanclass1_train['Age'][x],habermanclass1_train[' Positive'][x])\n",
        "  list_habermanclass1_train.insert(1,temp_point)\n",
        "\n",
        "list_habermanclass1_test=[]\n",
        "for x in range(habermanclass1_test['Age'].size):\n",
        "  temp_point=Point(habermanclass1_test['Age'][x],habermanclass1_test[' Positive'][x])\n",
        "  list_habermanclass1_test.insert(1,temp_point)"
      ]
    },
    {
      "cell_type": "code",
      "execution_count": null,
      "metadata": {
        "id": "5i-EeVl-5BMN"
      },
      "outputs": [],
      "source": [
        "list_habermanclass2_train=[]\n",
        "for x in range(habermanclass2_train['Age'].size):\n",
        "  temp_point=Point(habermanclass2_train['Age'][x],habermanclass2_train[' Positive'][x])\n",
        "  list_habermanclass2_train.insert(1,temp_point)\n",
        "\n",
        "list_habermanclass2_test=[]\n",
        "for x in range(habermanclass2_test['Age'].size):\n",
        "  temp_point=Point(habermanclass2_test['Age'][x],habermanclass2_test[' Positive'][x])\n",
        "  list_habermanclass2_test.insert(1,temp_point)"
      ]
    },
    {
      "cell_type": "markdown",
      "metadata": {
        "id": "0E7vzNMErn6n"
      },
      "source": [
        "# Separando as classes do Dataframe Adult e criando partições de treino e teste dos dados"
      ]
    },
    {
      "cell_type": "code",
      "execution_count": null,
      "metadata": {
        "id": "Het1r6J8IPoA"
      },
      "outputs": [],
      "source": [
        "\n",
        "adultclass1=adult[adult[' Class']=='>50K']\n",
        "adultclass2=adult[adult[' Class']=='<=50K']\n",
        "adultclass1=adultclass1[['Age',' Education-num']]\n",
        "adultclass2=adultclass2[['Age',' Education-num']]"
      ]
    },
    {
      "cell_type": "markdown",
      "metadata": {
        "id": "72wQx6bLbsHR"
      },
      "source": [
        "Separando as classes em treino e teste"
      ]
    },
    {
      "cell_type": "markdown",
      "metadata": {
        "id": "uIkrLd-6bsHU"
      },
      "source": [
        "\n",
        "\n",
        "> Classe 1:\n",
        "\n"
      ]
    },
    {
      "cell_type": "code",
      "execution_count": null,
      "metadata": {
        "id": "624bFKVdbsHY"
      },
      "outputs": [],
      "source": [
        "adultclass1_train=adultclass1.sample(frac=0.7)\n",
        "adultclass1_test=adultclass1.drop(adultclass1_train.index)\n",
        "adultclass1_train.reset_index(drop=True,inplace=True)\n",
        "adultclass1_test.reset_index(drop=True,inplace=True)\n"
      ]
    },
    {
      "cell_type": "markdown",
      "metadata": {
        "id": "DjafkOMkbsHc"
      },
      "source": [
        "\n",
        "\n",
        "> Classe 2:\n",
        "\n"
      ]
    },
    {
      "cell_type": "code",
      "execution_count": null,
      "metadata": {
        "id": "LtyR6ba8bsHf"
      },
      "outputs": [],
      "source": [
        "adultclass2_train=adultclass2.sample(frac=0.7)\n",
        "adultclass2_test=adultclass2.drop(adultclass2_train.index)\n",
        "adultclass2_train.reset_index(drop=True,inplace=True)\n",
        "adultclass2_test.reset_index(drop=True,inplace=True)"
      ]
    },
    {
      "cell_type": "markdown",
      "metadata": {
        "id": "-tJxj5y6bsHi"
      },
      "source": [
        "Passando os dados para o tipo Point:"
      ]
    },
    {
      "cell_type": "code",
      "execution_count": null,
      "metadata": {
        "id": "8Oe9hHQhbsHl"
      },
      "outputs": [],
      "source": [
        "list_adultclass1_train=[]\n",
        "for x in range(adultclass1_train['Age'].size):\n",
        "  temp_point=Point(adultclass1_train['Age'][x],adultclass1_train[' Education-num'][x])\n",
        "  list_adultclass1_train.insert(1,temp_point)\n",
        "\n",
        "list_adultclass1_test=[]\n",
        "for x in range(adultclass1_test['Age'].size):\n",
        "  temp_point=Point(adultclass1_test['Age'][x],adultclass1_test[' Education-num'][x])\n",
        "  list_adultclass1_test.insert(1,temp_point)"
      ]
    },
    {
      "cell_type": "code",
      "execution_count": null,
      "metadata": {
        "id": "4Sw4n1UGbsHo"
      },
      "outputs": [],
      "source": [
        "list_adultclass2_train=[]\n",
        "for x in range(adultclass2_train['Age'].size):\n",
        "  temp_point=Point(adultclass2_train['Age'][x],adultclass2_train[' Education-num'][x])\n",
        "  list_adultclass2_train.insert(1,temp_point)\n",
        "\n",
        "list_adultclass2_test=[]\n",
        "for x in range(adultclass2_test['Age'].size):\n",
        "  temp_point=Point(adultclass2_test['Age'][x],adultclass2_test[' Education-num'][x])\n",
        "  list_adultclass2_test.insert(1,temp_point)"
      ]
    },
    {
      "cell_type": "markdown",
      "metadata": {
        "id": "ey2Z5t74rp8W"
      },
      "source": [
        "# Separando as classes do Dataframe Glass e criando partições de treino e teste dos dados"
      ]
    },
    {
      "cell_type": "code",
      "execution_count": null,
      "metadata": {
        "id": "CAY-xlLmKs3M"
      },
      "outputs": [],
      "source": [
        "glassclass1=glass[glass[' Class']==2]\n",
        "glassclass2=glass[glass[' Class']!=2]\n",
        "glassclass1=glassclass1[[' Al',' Si']]\n",
        "glassclass2=glassclass2[[' Al',' Si']]"
      ]
    },
    {
      "cell_type": "markdown",
      "metadata": {
        "id": "5IDSR5ICbuN_"
      },
      "source": [
        "Separando as classes em treino e teste"
      ]
    },
    {
      "cell_type": "markdown",
      "metadata": {
        "id": "n-hrTh0VbuOA"
      },
      "source": [
        "\n",
        "\n",
        "> Classe 1:\n",
        "\n"
      ]
    },
    {
      "cell_type": "code",
      "execution_count": null,
      "metadata": {
        "id": "QRzxh55QbuOC"
      },
      "outputs": [],
      "source": [
        "glassclass1_train=glassclass1.sample(frac=0.7)\n",
        "glassclass1_test=glassclass1.drop(glassclass1_train.index)\n",
        "glassclass1_train.reset_index(drop=True,inplace=True)\n",
        "glassclass1_test.reset_index(drop=True,inplace=True)\n"
      ]
    },
    {
      "cell_type": "markdown",
      "metadata": {
        "id": "wuYbHJxVbuOE"
      },
      "source": [
        "\n",
        "\n",
        "> Classe 2:\n",
        "\n"
      ]
    },
    {
      "cell_type": "code",
      "execution_count": null,
      "metadata": {
        "id": "RXU8Rc6_buOF"
      },
      "outputs": [],
      "source": [
        "glassclass2_train=glassclass2.sample(frac=0.7)\n",
        "glassclass2_test=glassclass2.drop(glassclass2_train.index)\n",
        "glassclass2_train.reset_index(drop=True,inplace=True)\n",
        "glassclass2_test.reset_index(drop=True,inplace=True)"
      ]
    },
    {
      "cell_type": "markdown",
      "metadata": {
        "id": "QKUAXcQYbuOG"
      },
      "source": [
        "Passando os dados para o tipo Point:"
      ]
    },
    {
      "cell_type": "code",
      "execution_count": null,
      "metadata": {
        "id": "OKbpqZL8buOH"
      },
      "outputs": [],
      "source": [
        "list_glassclass1_train=[]\n",
        "for x in range(glassclass1_train[' Al'].size):\n",
        "  temp_point=Point(glassclass1_train[' Al'][x],glassclass1_train[' Si'][x])\n",
        "  list_glassclass1_train.insert(1,temp_point)\n",
        "\n",
        "list_glassclass1_test=[]\n",
        "for x in range(glassclass1_test[' Al'].size):\n",
        "  temp_point=Point(glassclass1_test[' Al'][x],glassclass1_test[' Si'][x])\n",
        "  list_glassclass1_test.insert(1,temp_point)"
      ]
    },
    {
      "cell_type": "code",
      "execution_count": null,
      "metadata": {
        "id": "K6vgamEAbuOH"
      },
      "outputs": [],
      "source": [
        "list_glassclass2_train=[]\n",
        "for x in range(glassclass2_train[' Al'].size):\n",
        "  temp_point=Point(glassclass2_train[' Al'][x],glassclass2_train[' Si'][x])\n",
        "  list_glassclass2_train.insert(1,temp_point)\n",
        "\n",
        "list_glassclass2_test=[]\n",
        "for x in range(glassclass2_test[' Al'].size):\n",
        "  temp_point=Point(glassclass2_test[' Al'][x],glassclass2_test[' Si'][x])\n",
        "  list_glassclass2_test.insert(1,temp_point)"
      ]
    },
    {
      "cell_type": "markdown",
      "metadata": {
        "id": "MHQwbdz9sJSJ"
      },
      "source": [
        "# Separando as classes do Dataframe Iris e criando partições de treino e teste dos dados\n",
        "\n"
      ]
    },
    {
      "cell_type": "code",
      "execution_count": 104,
      "metadata": {
        "id": "3QRKma5isLb6"
      },
      "outputs": [],
      "source": [
        "irisclass1=iris[iris['Class']==' Iris-versicolor']\n",
        "irisclass2=iris[iris['Class']==' Iris-setosa']\n",
        "irisclass1=irisclass1[['SepalLength','SepalWidth']]\n",
        "irisclass2=irisclass2[['SepalLength','SepalWidth']]"
      ]
    },
    {
      "cell_type": "markdown",
      "metadata": {
        "id": "ugjj0UwobvVb"
      },
      "source": [
        "Separando as classes em treino e teste"
      ]
    },
    {
      "cell_type": "markdown",
      "metadata": {
        "id": "QoxxvabMbvVd"
      },
      "source": [
        "\n",
        "\n",
        "> Classe 1:\n",
        "\n"
      ]
    },
    {
      "cell_type": "code",
      "execution_count": 105,
      "metadata": {
        "id": "9CE-at3ObvVd"
      },
      "outputs": [],
      "source": [
        "irisclass1_train=irisclass1.sample(frac=0.7)\n",
        "irisclass1_test=irisclass1.drop(irisclass1_train.index)\n",
        "irisclass1_train.reset_index(drop=True,inplace=True)\n",
        "irisclass1_test.reset_index(drop=True,inplace=True)\n"
      ]
    },
    {
      "cell_type": "markdown",
      "metadata": {
        "id": "6ht90-GMbvVf"
      },
      "source": [
        "\n",
        "\n",
        "> Classe 2:\n",
        "\n"
      ]
    },
    {
      "cell_type": "code",
      "execution_count": 106,
      "metadata": {
        "id": "w_sPWQIcbvVf"
      },
      "outputs": [],
      "source": [
        "irisclass2_train=irisclass2.sample(frac=0.7)\n",
        "irisclass2_test=irisclass2.drop(irisclass2_train.index)\n",
        "irisclass2_train.reset_index(drop=True,inplace=True)\n",
        "irisclass2_test.reset_index(drop=True,inplace=True)"
      ]
    },
    {
      "cell_type": "markdown",
      "metadata": {
        "id": "5WPh5fEibvVg"
      },
      "source": [
        "Passando os dados para o tipo Point:"
      ]
    },
    {
      "cell_type": "code",
      "execution_count": 107,
      "metadata": {
        "id": "toMbaOlDbvVg"
      },
      "outputs": [],
      "source": [
        "list_irisclass1_train=[]\n",
        "for x in range(irisclass1_train['SepalLength'].size):\n",
        "  temp_point=Point(irisclass1_train['SepalLength'][x],irisclass1_train['SepalWidth'][x])\n",
        "  list_irisclass1_train.insert(1,temp_point)\n",
        "\n",
        "list_irisclass1_test=[]\n",
        "for x in range(irisclass1_test['SepalLength'].size):\n",
        "  temp_point=Point(irisclass1_test['SepalLength'][x],irisclass1_test['SepalWidth'][x])\n",
        "  list_irisclass1_test.insert(1,temp_point)"
      ]
    },
    {
      "cell_type": "code",
      "execution_count": 108,
      "metadata": {
        "id": "7aeZSq3AbvVh"
      },
      "outputs": [],
      "source": [
        "list_irisclass2_train=[]\n",
        "for x in range(irisclass2_train['SepalLength'].size):\n",
        "  temp_point=Point(irisclass2_train['SepalLength'][x],irisclass2_train['SepalWidth'][x])\n",
        "  list_irisclass2_train.insert(1,temp_point)\n",
        "\n",
        "list_irisclass2_test=[]\n",
        "for x in range(irisclass2_test['SepalLength'].size):\n",
        "  temp_point=Point(irisclass2_test['SepalLength'][x],irisclass2_test['SepalWidth'][x])\n",
        "  list_irisclass2_test.insert(1,temp_point)"
      ]
    },
    {
      "cell_type": "code",
      "execution_count": 114,
      "metadata": {},
      "outputs": [
        {
          "data": {
            "image/png": "[encoded data removed]",
            "text/plain": [
              "<Figure size 640x480 with 1 Axes>"
            ]
          },
          "metadata": {},
          "output_type": "display_data"
        }
      ],
      "source": [
        "x1 = [float(p.x) for p in list_irisclass1_train]\n",
        "y1 = [float(p.y) for p in list_irisclass1_train]\n",
        "x2 = [float(p.x) for p in list_irisclass2_train]\n",
        "y2 = [float(p.y) for p in list_irisclass2_train]\n",
        "plt.xlim(min(min(x1), min(x2)), max(max(x1), max(x2)))\n",
        "plt.ylim(min(min(y1), min(y2)), max(max(y1), max(y2)))\n",
        "plt.scatter(x1, y1, color='black', s=.8)\n",
        "plt.scatter(x2, y2, color='green', s=.8)\n",
        "plt.show()"
      ]
    },
    {
      "cell_type": "markdown",
      "metadata": {
        "id": "6LNGy7VKtX0T"
      },
      "source": [
        "# Separando as classes do Dataframe Magic e criando partições de treino e teste dos dados"
      ]
    },
    {
      "cell_type": "code",
      "execution_count": 95,
      "metadata": {
        "id": "XhJszBbztdcA"
      },
      "outputs": [
        {
          "ename": "NameError",
          "evalue": "name 'magic' is not defined",
          "output_type": "error",
          "traceback": [
            "\u001b[0;31m---------------------------------------------------------------------------\u001b[0m",
            "\u001b[0;31mNameError\u001b[0m                                 Traceback (most recent call last)",
            "Cell \u001b[0;32mIn [95], line 1\u001b[0m\n\u001b[0;32m----> 1\u001b[0m magicclass1\u001b[39m=\u001b[39mmagic[magic[\u001b[39m'\u001b[39m\u001b[39m Class\u001b[39m\u001b[39m'\u001b[39m]\u001b[39m==\u001b[39m\u001b[39m'\u001b[39m\u001b[39mg\u001b[39m\u001b[39m'\u001b[39m]\n\u001b[1;32m      2\u001b[0m magicclass2\u001b[39m=\u001b[39mmagic[magic[\u001b[39m'\u001b[39m\u001b[39m Class\u001b[39m\u001b[39m'\u001b[39m]\u001b[39m==\u001b[39m\u001b[39m'\u001b[39m\u001b[39mh\u001b[39m\u001b[39m'\u001b[39m]\n\u001b[1;32m      3\u001b[0m magicclass1\u001b[39m=\u001b[39mmagicclass1[[\u001b[39m'\u001b[39m\u001b[39mFLength\u001b[39m\u001b[39m'\u001b[39m,\u001b[39m'\u001b[39m\u001b[39m FWidth\u001b[39m\u001b[39m'\u001b[39m]]\n",
            "\u001b[0;31mNameError\u001b[0m: name 'magic' is not defined"
          ]
        }
      ],
      "source": [
        "magicclass1=magic[magic[' Class']=='g']\n",
        "magicclass2=magic[magic[' Class']=='h']\n",
        "magicclass1=magicclass1[['FLength',' FWidth']]\n",
        "magicclass2=magicclass2[['FLength',' FWidth']]"
      ]
    },
    {
      "cell_type": "markdown",
      "metadata": {
        "id": "dbrnoA1Mb86M"
      },
      "source": [
        "Separando as classes em treino e teste"
      ]
    },
    {
      "cell_type": "markdown",
      "metadata": {
        "id": "-bBP_d6Bb86N"
      },
      "source": [
        "\n",
        "\n",
        "> Classe 1:\n",
        "\n"
      ]
    },
    {
      "cell_type": "code",
      "execution_count": null,
      "metadata": {
        "id": "h88E0yMlb86O"
      },
      "outputs": [],
      "source": [
        "magicclass1_train=magicclass1.sample(frac=0.7)\n",
        "magicclass1_test=magicclass1.drop(magicclass1_train.index)\n",
        "magicclass1_train.reset_index(drop=True,inplace=True)\n",
        "magicclass1_test.reset_index(drop=True,inplace=True)\n"
      ]
    },
    {
      "cell_type": "markdown",
      "metadata": {
        "id": "w9GPDVX2b86O"
      },
      "source": [
        "\n",
        "\n",
        "> Classe 2:\n",
        "\n"
      ]
    },
    {
      "cell_type": "code",
      "execution_count": null,
      "metadata": {
        "id": "cSn0z4yVb86P"
      },
      "outputs": [],
      "source": [
        "magicclass2_train=magicclass2.sample(frac=0.7)\n",
        "magicclass2_test=magicclass2.drop(magicclass2_train.index)\n",
        "magicclass2_train.reset_index(drop=True,inplace=True)\n",
        "magicclass2_test.reset_index(drop=True,inplace=True)"
      ]
    },
    {
      "cell_type": "markdown",
      "metadata": {
        "id": "eJqpyZqNb86P"
      },
      "source": [
        "Passando os dados para o tipo Point:"
      ]
    },
    {
      "cell_type": "code",
      "execution_count": null,
      "metadata": {
        "id": "E5MIQEK3b86Q"
      },
      "outputs": [],
      "source": [
        "list_magicclass1_train=[]\n",
        "for x in range(magicclass1_train['FLength'].size):\n",
        "  temp_point=Point(magicclass1_train['FLength'][x],magicclass1_train[' FWidth'][x])\n",
        "  list_magicclass1_train.insert(1,temp_point)\n",
        "\n",
        "list_magicclass1_test=[]\n",
        "for x in range(magicclass1_test['FLength'].size):\n",
        "  temp_point=Point(magicclass1_test['FLength'][x],magicclass1_test[' FWidth'][x])\n",
        "  list_magicclass1_test.insert(1,temp_point)"
      ]
    },
    {
      "cell_type": "code",
      "execution_count": null,
      "metadata": {
        "id": "7T69NmlDb86R"
      },
      "outputs": [],
      "source": [
        "list_magicclass2_train=[]\n",
        "for x in range(magicclass2_train['FLength'].size):\n",
        "  temp_point=Point(magicclass2_train['FLength'][x],magicclass2_train[' FWidth'][x])\n",
        "  list_magicclass2_train.insert(1,temp_point)\n",
        "\n",
        "list_magicclass2_test=[]\n",
        "for x in range(magicclass2_test['FLength'].size):\n",
        "  temp_point=Point(magicclass2_test['FLength'][x],magicclass2_test[' FWidth'][x])\n",
        "  list_magicclass2_test.insert(1,temp_point)"
      ]
    },
    {
      "cell_type": "markdown",
      "metadata": {
        "id": "qqFytab7uVMD"
      },
      "source": [
        "# Separando as classes do Dataframe Pima e criando partições de treino e teste dos dados"
      ]
    },
    {
      "cell_type": "code",
      "execution_count": null,
      "metadata": {
        "id": "mp6ajtg1uaFE"
      },
      "outputs": [],
      "source": [
        "pimaclass1=pima[pima[' Class']=='tested_positive']\n",
        "pimaclass2=pima[pima[' Class']=='tested_negative']\n",
        "pimaclass1=pimaclass1[['Preg',' Plas']]\n",
        "pimaclass2=pimaclass2[['Preg',' Plas']]"
      ]
    },
    {
      "cell_type": "markdown",
      "metadata": {
        "id": "H86SrKVfb9jZ"
      },
      "source": [
        "Separando as classes em treino e teste"
      ]
    },
    {
      "cell_type": "markdown",
      "metadata": {
        "id": "6BwyrKRKb9jZ"
      },
      "source": [
        "\n",
        "\n",
        "> Classe 1:\n",
        "\n"
      ]
    },
    {
      "cell_type": "code",
      "execution_count": null,
      "metadata": {
        "id": "K75pfYT3b9ja"
      },
      "outputs": [],
      "source": [
        "pimaclass1_train=pimaclass1.sample(frac=0.7)\n",
        "pimaclass1_test=pimaclass1.drop(pimaclass1_train.index)\n",
        "pimaclass1_train.reset_index(drop=True,inplace=True)\n",
        "pimaclass1_test.reset_index(drop=True,inplace=True)\n"
      ]
    },
    {
      "cell_type": "markdown",
      "metadata": {
        "id": "HmQJFSYOb9ja"
      },
      "source": [
        "\n",
        "\n",
        "> Classe 2:\n",
        "\n"
      ]
    },
    {
      "cell_type": "code",
      "execution_count": null,
      "metadata": {
        "id": "_E5YGVIfb9ja"
      },
      "outputs": [],
      "source": [
        "pimaclass2_train=pimaclass2.sample(frac=0.7)\n",
        "pimaclass2_test=pimaclass2.drop(pimaclass2_train.index)\n",
        "pimaclass2_train.reset_index(drop=True,inplace=True)\n",
        "pimaclass2_test.reset_index(drop=True,inplace=True)"
      ]
    },
    {
      "cell_type": "markdown",
      "metadata": {
        "id": "bhCWQ4_Rb9ja"
      },
      "source": [
        "Passando os dados para o tipo Point:"
      ]
    },
    {
      "cell_type": "code",
      "execution_count": null,
      "metadata": {
        "id": "a-fQXvC-b9jb"
      },
      "outputs": [],
      "source": [
        "list_pimaclass1_train=[]\n",
        "for x in range(pimaclass1_train['Preg'].size):\n",
        "  temp_point=Point(pimaclass1_train['Preg'][x],pimaclass1_train[' Plas'][x])\n",
        "  list_pimaclass1_train.insert(1,temp_point)\n",
        "\n",
        "list_pimaclass1_test=[]\n",
        "for x in range(pimaclass1_test['Preg'].size):\n",
        "  temp_point=Point(pimaclass1_test['Preg'][x],pimaclass1_test[' Plas'][x])\n",
        "  list_pimaclass1_test.insert(1,temp_point)"
      ]
    },
    {
      "cell_type": "code",
      "execution_count": null,
      "metadata": {
        "id": "a22YLIdyb9jb"
      },
      "outputs": [],
      "source": [
        "list_pimaclass2_train=[]\n",
        "for x in range(pimaclass2_train['Preg'].size):\n",
        "  temp_point=Point(pimaclass2_train['Preg'][x],pimaclass2_train[' Plas'][x])\n",
        "  list_pimaclass2_train.insert(1,temp_point)\n",
        "\n",
        "list_pimaclass2_test=[]\n",
        "for x in range(pimaclass2_test['Preg'].size):\n",
        "  temp_point=Point(pimaclass2_test['Preg'][x],pimaclass2_test[' Plas'][x])\n",
        "  list_pimaclass2_test.insert(1,temp_point)"
      ]
    },
    {
      "cell_type": "markdown",
      "metadata": {
        "id": "I6pPu5kLvMVQ"
      },
      "source": [
        "# Separando as classes do Dataframe Sonar e criando partições de treino e teste dos dados"
      ]
    },
    {
      "cell_type": "code",
      "execution_count": null,
      "metadata": {
        "id": "r3lOC9c-vOUv"
      },
      "outputs": [],
      "source": [
        "sonarclass1=sonar[sonar[' Class']==' R']\n",
        "sonarclass2=sonar[sonar[' Class']==' M']\n",
        "sonaclass1=sonarclass1[['Band1',' Band2']]\n",
        "sonaclass2=sonarclass2[['Band1',' Band2']]"
      ]
    },
    {
      "cell_type": "markdown",
      "metadata": {
        "id": "Mz4wg05Ab_ni"
      },
      "source": [
        "Separando as classes em treino e teste"
      ]
    },
    {
      "cell_type": "markdown",
      "metadata": {
        "id": "INkUsAU8b_ni"
      },
      "source": [
        "\n",
        "\n",
        "> Classe 1:\n",
        "\n"
      ]
    },
    {
      "cell_type": "code",
      "execution_count": null,
      "metadata": {
        "id": "LeG6NBkLb_nj"
      },
      "outputs": [],
      "source": [
        "sonarclass1_train=sonarclass1.sample(frac=0.7)\n",
        "sonarclass1_test=sonarclass1.drop(sonarclass1_train.index)\n",
        "sonarclass1_train.reset_index(drop=True,inplace=True)\n",
        "sonarclass1_test.reset_index(drop=True,inplace=True)\n"
      ]
    },
    {
      "cell_type": "markdown",
      "metadata": {
        "id": "8amN0bN2b_nj"
      },
      "source": [
        "\n",
        "\n",
        "> Classe 2:\n",
        "\n"
      ]
    },
    {
      "cell_type": "code",
      "execution_count": null,
      "metadata": {
        "id": "G1uf3cNKb_nj"
      },
      "outputs": [],
      "source": [
        "sonarclass2_train=sonarclass2.sample(frac=0.7)\n",
        "sonarclass2_test=sonarclass2.drop(sonarclass2_train.index)\n",
        "sonarclass2_train.reset_index(drop=True,inplace=True)\n",
        "sonarclass2_test.reset_index(drop=True,inplace=True)"
      ]
    },
    {
      "cell_type": "markdown",
      "metadata": {
        "id": "Eh0fzxvOb_nj"
      },
      "source": [
        "Passando os dados para o tipo Point:"
      ]
    },
    {
      "cell_type": "code",
      "execution_count": null,
      "metadata": {
        "id": "F29sf7e0b_nj"
      },
      "outputs": [],
      "source": [
        "list_sonarclass1_train=[]\n",
        "for x in range(sonarclass1_train['Band1'].size):\n",
        "  temp_point=Point(sonarclass1_train['Band1'][x],sonarclass1_train[' Band2'][x])\n",
        "  list_sonarclass1_train.insert(1,temp_point)\n",
        "\n",
        "list_sonarclass1_test=[]\n",
        "for x in range(sonarclass1_test['Band1'].size):\n",
        "  temp_point=Point(sonarclass1_test['Band1'][x],sonarclass1_test[' Band2'][x])\n",
        "  list_sonarclass1_test.insert(1,temp_point)"
      ]
    },
    {
      "cell_type": "code",
      "execution_count": null,
      "metadata": {
        "id": "43Vq7LTcb_nk"
      },
      "outputs": [],
      "source": [
        "list_sonarclass2_train=[]\n",
        "for x in range(sonarclass2_train['Band1'].size):\n",
        "  temp_point=Point(sonarclass2_train['Band1'][x],sonarclass2_train[' Band2'][x])\n",
        "  list_sonarclass2_train.insert(1,temp_point)\n",
        "\n",
        "list_sonarclass2_test=[]\n",
        "for x in range(sonarclass2_test['Band1'].size):\n",
        "  temp_point=Point(sonarclass2_test['Band1'][x],sonarclass2_test[' Band2'][x])\n",
        "  list_sonarclass2_test.insert(1,temp_point)"
      ]
    },
    {
      "cell_type": "markdown",
      "metadata": {
        "id": "081P2nELw8MQ"
      },
      "source": [
        "# Separando as classes do Dataframe Vehicle e criando partições de treino e teste dos dados"
      ]
    },
    {
      "cell_type": "code",
      "execution_count": null,
      "metadata": {
        "id": "petOzPXaxAjH"
      },
      "outputs": [],
      "source": [
        "vehicleclass1=vehicle[vehicle[' Class']==' bus ']\n",
        "vehicleclass2=vehicle[vehicle[' Class']!=' bus ']\n",
        "vehicleclass1=vehicleclass1[['Compactness',' Circularity']]\n",
        "vehicleclass2=vehicleclass2[['Compactness',' Circularity']]"
      ]
    },
    {
      "cell_type": "markdown",
      "metadata": {
        "id": "Jd4kpGFccAUu"
      },
      "source": [
        "Separando as classes em treino e teste"
      ]
    },
    {
      "cell_type": "markdown",
      "metadata": {
        "id": "yn7X4_QAcAUu"
      },
      "source": [
        "\n",
        "\n",
        "> Classe 1:\n",
        "\n"
      ]
    },
    {
      "cell_type": "code",
      "execution_count": null,
      "metadata": {
        "id": "wvE_h5fycAUv"
      },
      "outputs": [],
      "source": [
        "vehicleclass1_train=vehicleclass1.sample(frac=0.7)\n",
        "vehicleclass1_test=vehicleclass1.drop(vehicleclass1_train.index)\n",
        "vehicleclass1_train.reset_index(drop=True,inplace=True)\n",
        "vehicleclass1_test.reset_index(drop=True,inplace=True)\n"
      ]
    },
    {
      "cell_type": "markdown",
      "metadata": {
        "id": "Mv3NeW-HcAUw"
      },
      "source": [
        "\n",
        "\n",
        "> Classe 2:\n",
        "\n"
      ]
    },
    {
      "cell_type": "code",
      "execution_count": null,
      "metadata": {
        "id": "lckttsNtcAUw"
      },
      "outputs": [],
      "source": [
        "vehicleclass2_train=vehicleclass2.sample(frac=0.7)\n",
        "vehicleclass2_test=vehicleclass2.drop(vehicleclass2_train.index)\n",
        "vehicleclass2_train.reset_index(drop=True,inplace=True)\n",
        "vehicleclass2_test.reset_index(drop=True,inplace=True)"
      ]
    },
    {
      "cell_type": "markdown",
      "metadata": {
        "id": "LvUDCQE7cAUx"
      },
      "source": [
        "Passando os dados para o tipo Point:"
      ]
    },
    {
      "cell_type": "code",
      "execution_count": null,
      "metadata": {
        "id": "rj-KiodvcAUy"
      },
      "outputs": [],
      "source": [
        "list_vehicleclass1_train=[]\n",
        "for x in range(vehicleclass1_train['Compactness'].size):\n",
        "  temp_point=Point(vehicleclass1_train['Compactness'][x],vehicleclass1_train[' Circularity'][x])\n",
        "  list_vehicleclass1_train.insert(1,temp_point)\n",
        "\n",
        "list_vehicleclass1_test=[]\n",
        "for x in range(vehicleclass1_test['Compactness'].size):\n",
        "  temp_point=Point(vehicleclass1_test['Compactness'][x],vehicleclass1_test[' Circularity'][x])\n",
        "  list_vehicleclass1_test.insert(1,temp_point)"
      ]
    },
    {
      "cell_type": "code",
      "execution_count": null,
      "metadata": {
        "id": "OMVuGWUPcAUz"
      },
      "outputs": [],
      "source": [
        "list_vehicleclass2_train=[]\n",
        "for x in range(vehicleclass2_train['Compactness'].size):\n",
        "  temp_point=Point(vehicleclass2_train['Compactness'][x],vehicleclass2_train[' Circularity'][x])\n",
        "  list_vehicleclass2_train.insert(1,temp_point)\n",
        "\n",
        "list_vehicleclass2_test=[]\n",
        "for x in range(vehicleclass2_test['Compactness'].size):\n",
        "  temp_point=Point(vehicleclass2_test['Compactness'][x],vehicleclass2_test[' Circularity'][x])\n",
        "  list_vehicleclass2_test.insert(1,temp_point)"
      ]
    },
    {
      "cell_type": "markdown",
      "metadata": {
        "id": "yP2e5TIF2dHz"
      },
      "source": [
        "# Separando as classes do Dataframe Vehicle e criando partições de treino e teste dos dados"
      ]
    },
    {
      "cell_type": "code",
      "execution_count": null,
      "metadata": {
        "id": "1u2N8rPi2jCF"
      },
      "outputs": [],
      "source": [
        "wineclass1=wine[wine[' Class']==2]\n",
        "wineclass2=wine[wine[' Class']!=2]\n",
        "wineclass1=wineclass1[['Alcohol',' MalicAcid']]\n",
        "wineclass2=wineclass2[['Alcohol',' MalicAcid']]"
      ]
    },
    {
      "cell_type": "markdown",
      "metadata": {
        "id": "Wt8WdyhKcAt7"
      },
      "source": [
        "Separando as classes em treino e teste"
      ]
    },
    {
      "cell_type": "markdown",
      "metadata": {
        "id": "fOaY1fLYcAt7"
      },
      "source": [
        "\n",
        "\n",
        "> Classe 1:\n",
        "\n"
      ]
    },
    {
      "cell_type": "code",
      "execution_count": null,
      "metadata": {
        "id": "y_MYd5YhcAt7"
      },
      "outputs": [],
      "source": [
        "wineclass1_train=wineclass1.sample(frac=0.7)\n",
        "wineclass1_test=wineclass1.drop(wineclass1_train.index)\n",
        "wineclass1_train.reset_index(drop=True,inplace=True)\n",
        "wineclass1_test.reset_index(drop=True,inplace=True)\n"
      ]
    },
    {
      "cell_type": "markdown",
      "metadata": {
        "id": "UcVY_suRcAt8"
      },
      "source": [
        "\n",
        "\n",
        "> Classe 2:\n",
        "\n"
      ]
    },
    {
      "cell_type": "code",
      "execution_count": null,
      "metadata": {
        "id": "6Jbex2DwcAt8"
      },
      "outputs": [],
      "source": [
        "wineclass2_train=wineclass2.sample(frac=0.7)\n",
        "wineclass2_test=wineclass2.drop(wineclass2_train.index)\n",
        "wineclass2_train.reset_index(drop=True,inplace=True)\n",
        "wineclass2_test.reset_index(drop=True,inplace=True)"
      ]
    },
    {
      "cell_type": "markdown",
      "metadata": {
        "id": "Msw6ECPUcAt8"
      },
      "source": [
        "Passando os dados para o tipo Point:"
      ]
    },
    {
      "cell_type": "code",
      "execution_count": null,
      "metadata": {
        "id": "SNT9Pl4GcAt8"
      },
      "outputs": [],
      "source": [
        "list_wineclass1_train=[]\n",
        "for x in range(wineclass1_train['Alcohol'].size):\n",
        "  temp_point=Point(wineclass1_train['Alcohol'][x],wineclass1_train[' MalicAcid'][x])\n",
        "  list_wineclass1_train.insert(1,temp_point)\n",
        "\n",
        "list_wineclass1_test=[]\n",
        "for x in range(wineclass1_test['Alcohol'].size):\n",
        "  temp_point=Point(wineclass1_test['Alcohol'][x],wineclass1_test[' MalicAcid'][x])\n",
        "  list_wineclass1_test.insert(1,temp_point)"
      ]
    },
    {
      "cell_type": "code",
      "execution_count": null,
      "metadata": {
        "id": "-AWuS_k0cAt9"
      },
      "outputs": [],
      "source": [
        "list_wineclass2_train=[]\n",
        "for x in range(wineclass2_train['Alcohol'].size):\n",
        "  temp_point=Point(wineclass2_train['Alcohol'][x],wineclass2_train[' MalicAcid'][x])\n",
        "  list_wineclass2_train.insert(1,temp_point)\n",
        "\n",
        "list_wineclass2_test=[]\n",
        "for x in range(wineclass2_test['Alcohol'].size):\n",
        "  temp_point=Point(wineclass2_test['Alcohol'][x],wineclass2_test[' MalicAcid'][x])\n",
        "  list_wineclass2_test.insert(1,temp_point)"
      ]
    }
  ],
  "metadata": {
    "colab": {
      "provenance": []
    },
    "kernelspec": {
      "display_name": "Python 3.10.6 64-bit",
      "language": "python",
      "name": "python3"
    },
    "language_info": {
      "codemirror_mode": {
        "name": "ipython",
        "version": 3
      },
      "file_extension": ".py",
      "mimetype": "text/x-python",
      "name": "python",
      "nbconvert_exporter": "python",
      "pygments_lexer": "ipython3",
      "version": "3.10.6"
    },
    "vscode": {
      "interpreter": {
        "hash": "916dbcbb3f70747c44a77c7bcd40155683ae19c65e1c03b4aa3499c5328201f1"
      }
    }
  },
  "nbformat": 4,
  "nbformat_minor": 0
}
